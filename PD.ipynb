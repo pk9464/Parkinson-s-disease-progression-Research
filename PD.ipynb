{
 "cells": [
  {
   "cell_type": "markdown",
   "id": "1649c7ec",
   "metadata": {},
   "source": [
    "## AMP®-Parkinson's Disease Progression Prediction\n",
    "### Use protein and peptide data measurements from Parkinson's Disease patients to predict progression of the disease"
   ]
  },
  {
   "cell_type": "code",
   "execution_count": null,
   "id": "82c476b1",
   "metadata": {},
   "outputs": [],
   "source": []
  },
  {
   "cell_type": "markdown",
   "id": "65cb1ac3",
   "metadata": {},
   "source": [
    "## Performed the below tasks\n",
    "**Step-1 Understanding the buisness problem/ problem statement**\n",
    "\n",
    "**Step-2 Getting data (Importing by Pandas)**\n",
    "\n",
    "**Step-3 Understanding about the data**\n",
    "\n",
    "**Step-4 Data cleaning**\n",
    "\n",
    "**Step-5 Data visualization**\n",
    "\n",
    "**Step-6 EDA Exploratory data analysis**\n",
    "\n",
    "**Step-7 Feature Engineering**\n",
    "\n",
    "**Step-8 Feature selection**\n",
    "\n",
    "**Step-9 Splitting the data**\n",
    "\n",
    "**Step-10 Model building** \n",
    "\n",
    "**Step-11 Prediction and accuracy**\n",
    "\n",
    "**Step-12 Tunning and improving accuracy**"
   ]
  },
  {
   "cell_type": "code",
   "execution_count": null,
   "id": "ed8f638f",
   "metadata": {},
   "outputs": [],
   "source": []
  },
  {
   "cell_type": "markdown",
   "id": "b6372f6e",
   "metadata": {},
   "source": [
    "### Step-1 Understanding the buisness problem/ problem statement"
   ]
  },
  {
   "cell_type": "markdown",
   "id": "8bbbfe0e",
   "metadata": {},
   "source": [
    "### Problem Statement \n",
    "#### The goal of this competition is to predict MDS-UPDR scores, which measure progression in patients with Parkinson's disease. \n",
    "\n",
    "#### The Movement Disorder Society-Sponsored Revision of the Unified Parkinson's Disease Rating Scale (MDS-UPDRS) is a comprehensive assessment of both motor and non-motor symptoms associated with Parkinson's. \n",
    "\n",
    "#### You will develop a model trained on data of protein and peptide levels over time in subjects with Parkinson’s disease versus normal age-matched control subjects.\n",
    "\n",
    "#### Your work could help provide important breakthrough information about which molecules change as Parkinson’s disease progresses."
   ]
  },
  {
   "cell_type": "code",
   "execution_count": null,
   "id": "32d2140a",
   "metadata": {},
   "outputs": [],
   "source": []
  },
  {
   "cell_type": "code",
   "execution_count": 1,
   "id": "0dae166d",
   "metadata": {},
   "outputs": [],
   "source": [
    "# Importing Require Library"
   ]
  },
  {
   "cell_type": "code",
   "execution_count": 2,
   "id": "0abcff7f",
   "metadata": {},
   "outputs": [],
   "source": [
    "import pandas as pd\n",
    "import numpy as np\n",
    "import matplotlib.pyplot as plt\n",
    "import seaborn as sns\n",
    "%matplotlib inline"
   ]
  },
  {
   "cell_type": "code",
   "execution_count": 3,
   "id": "b2080d77",
   "metadata": {},
   "outputs": [],
   "source": [
    "import warnings\n",
    "warnings.filterwarnings('ignore')"
   ]
  },
  {
   "cell_type": "code",
   "execution_count": 4,
   "id": "85af95d0",
   "metadata": {},
   "outputs": [],
   "source": [
    "# Those below are used to change the display options for pandas DataFrames \n",
    "# In order to display all the columns or rows of the DataFrame, respectively.\n",
    "pd.set_option('display.max_columns', None)\n",
    "pd.set_option('display.max_rows', None)"
   ]
  },
  {
   "cell_type": "code",
   "execution_count": null,
   "id": "b771bdc7",
   "metadata": {},
   "outputs": [],
   "source": []
  },
  {
   "cell_type": "markdown",
   "id": "de49cae0",
   "metadata": {},
   "source": [
    "### Step-2 Getting data (Importing by Pandas)"
   ]
  },
  {
   "cell_type": "code",
   "execution_count": 5,
   "id": "d45afece",
   "metadata": {},
   "outputs": [],
   "source": [
    "# Importing Datasets"
   ]
  },
  {
   "cell_type": "code",
   "execution_count": 6,
   "id": "5f3df0bc",
   "metadata": {},
   "outputs": [],
   "source": [
    "# Import train_peptides.csv\n",
    "train_peptides_df = pd.read_csv('train_peptides.csv')\n",
    "\n",
    "# Import train_proteins.csv\n",
    "train_proteins_df = pd.read_csv('train_proteins.csv')\n",
    "\n",
    "# Import train_clinical_data.csv\n",
    "train_clinical_data_df = pd.read_csv('train_clinical_data.csv')\n",
    "\n",
    "# Import supplemental_clinical_data.csv\n",
    "supplemental_clinical_data_df = pd.read_csv('supplemental_clinical_data.csv')\n"
   ]
  },
  {
   "cell_type": "code",
   "execution_count": null,
   "id": "e46c7898",
   "metadata": {},
   "outputs": [],
   "source": []
  },
  {
   "cell_type": "markdown",
   "id": "d367dd98",
   "metadata": {},
   "source": [
    "### Step-3 Understanding about the data"
   ]
  },
  {
   "cell_type": "code",
   "execution_count": 7,
   "id": "a9f80db5",
   "metadata": {},
   "outputs": [
    {
     "data": {
      "text/html": [
       "<div>\n",
       "<style scoped>\n",
       "    .dataframe tbody tr th:only-of-type {\n",
       "        vertical-align: middle;\n",
       "    }\n",
       "\n",
       "    .dataframe tbody tr th {\n",
       "        vertical-align: top;\n",
       "    }\n",
       "\n",
       "    .dataframe thead th {\n",
       "        text-align: right;\n",
       "    }\n",
       "</style>\n",
       "<table border=\"1\" class=\"dataframe\">\n",
       "  <thead>\n",
       "    <tr style=\"text-align: right;\">\n",
       "      <th></th>\n",
       "      <th>visit_id</th>\n",
       "      <th>visit_month</th>\n",
       "      <th>patient_id</th>\n",
       "      <th>UniProt</th>\n",
       "      <th>Peptide</th>\n",
       "      <th>PeptideAbundance</th>\n",
       "    </tr>\n",
       "  </thead>\n",
       "  <tbody>\n",
       "    <tr>\n",
       "      <th>0</th>\n",
       "      <td>55_0</td>\n",
       "      <td>0</td>\n",
       "      <td>55</td>\n",
       "      <td>O00391</td>\n",
       "      <td>NEQEQPLGQWHLS</td>\n",
       "      <td>11254.3</td>\n",
       "    </tr>\n",
       "    <tr>\n",
       "      <th>1</th>\n",
       "      <td>55_0</td>\n",
       "      <td>0</td>\n",
       "      <td>55</td>\n",
       "      <td>O00533</td>\n",
       "      <td>GNPEPTFSWTK</td>\n",
       "      <td>102060.0</td>\n",
       "    </tr>\n",
       "    <tr>\n",
       "      <th>2</th>\n",
       "      <td>55_0</td>\n",
       "      <td>0</td>\n",
       "      <td>55</td>\n",
       "      <td>O00533</td>\n",
       "      <td>IEIPSSVQQVPTIIK</td>\n",
       "      <td>174185.0</td>\n",
       "    </tr>\n",
       "    <tr>\n",
       "      <th>3</th>\n",
       "      <td>55_0</td>\n",
       "      <td>0</td>\n",
       "      <td>55</td>\n",
       "      <td>O00533</td>\n",
       "      <td>KPQSAVYSTGSNGILLC(UniMod_4)EAEGEPQPTIK</td>\n",
       "      <td>27278.9</td>\n",
       "    </tr>\n",
       "    <tr>\n",
       "      <th>4</th>\n",
       "      <td>55_0</td>\n",
       "      <td>0</td>\n",
       "      <td>55</td>\n",
       "      <td>O00533</td>\n",
       "      <td>SMEQNGPGLEYR</td>\n",
       "      <td>30838.7</td>\n",
       "    </tr>\n",
       "  </tbody>\n",
       "</table>\n",
       "</div>"
      ],
      "text/plain": [
       "  visit_id  visit_month  patient_id UniProt  \\\n",
       "0     55_0            0          55  O00391   \n",
       "1     55_0            0          55  O00533   \n",
       "2     55_0            0          55  O00533   \n",
       "3     55_0            0          55  O00533   \n",
       "4     55_0            0          55  O00533   \n",
       "\n",
       "                                  Peptide  PeptideAbundance  \n",
       "0                           NEQEQPLGQWHLS           11254.3  \n",
       "1                             GNPEPTFSWTK          102060.0  \n",
       "2                         IEIPSSVQQVPTIIK          174185.0  \n",
       "3  KPQSAVYSTGSNGILLC(UniMod_4)EAEGEPQPTIK           27278.9  \n",
       "4                            SMEQNGPGLEYR           30838.7  "
      ]
     },
     "execution_count": 7,
     "metadata": {},
     "output_type": "execute_result"
    }
   ],
   "source": [
    "train_peptides_df.head()"
   ]
  },
  {
   "cell_type": "code",
   "execution_count": null,
   "id": "2ac1b552",
   "metadata": {},
   "outputs": [],
   "source": []
  },
  {
   "cell_type": "code",
   "execution_count": 8,
   "id": "da212f65",
   "metadata": {
    "scrolled": false
   },
   "outputs": [
    {
     "data": {
      "text/html": [
       "<div>\n",
       "<style scoped>\n",
       "    .dataframe tbody tr th:only-of-type {\n",
       "        vertical-align: middle;\n",
       "    }\n",
       "\n",
       "    .dataframe tbody tr th {\n",
       "        vertical-align: top;\n",
       "    }\n",
       "\n",
       "    .dataframe thead th {\n",
       "        text-align: right;\n",
       "    }\n",
       "</style>\n",
       "<table border=\"1\" class=\"dataframe\">\n",
       "  <thead>\n",
       "    <tr style=\"text-align: right;\">\n",
       "      <th></th>\n",
       "      <th>visit_id</th>\n",
       "      <th>visit_month</th>\n",
       "      <th>patient_id</th>\n",
       "      <th>UniProt</th>\n",
       "      <th>NPX</th>\n",
       "    </tr>\n",
       "  </thead>\n",
       "  <tbody>\n",
       "    <tr>\n",
       "      <th>0</th>\n",
       "      <td>55_0</td>\n",
       "      <td>0</td>\n",
       "      <td>55</td>\n",
       "      <td>O00391</td>\n",
       "      <td>11254.3</td>\n",
       "    </tr>\n",
       "    <tr>\n",
       "      <th>1</th>\n",
       "      <td>55_0</td>\n",
       "      <td>0</td>\n",
       "      <td>55</td>\n",
       "      <td>O00533</td>\n",
       "      <td>732430.0</td>\n",
       "    </tr>\n",
       "    <tr>\n",
       "      <th>2</th>\n",
       "      <td>55_0</td>\n",
       "      <td>0</td>\n",
       "      <td>55</td>\n",
       "      <td>O00584</td>\n",
       "      <td>39585.8</td>\n",
       "    </tr>\n",
       "    <tr>\n",
       "      <th>3</th>\n",
       "      <td>55_0</td>\n",
       "      <td>0</td>\n",
       "      <td>55</td>\n",
       "      <td>O14498</td>\n",
       "      <td>41526.9</td>\n",
       "    </tr>\n",
       "    <tr>\n",
       "      <th>4</th>\n",
       "      <td>55_0</td>\n",
       "      <td>0</td>\n",
       "      <td>55</td>\n",
       "      <td>O14773</td>\n",
       "      <td>31238.0</td>\n",
       "    </tr>\n",
       "  </tbody>\n",
       "</table>\n",
       "</div>"
      ],
      "text/plain": [
       "  visit_id  visit_month  patient_id UniProt       NPX\n",
       "0     55_0            0          55  O00391   11254.3\n",
       "1     55_0            0          55  O00533  732430.0\n",
       "2     55_0            0          55  O00584   39585.8\n",
       "3     55_0            0          55  O14498   41526.9\n",
       "4     55_0            0          55  O14773   31238.0"
      ]
     },
     "execution_count": 8,
     "metadata": {},
     "output_type": "execute_result"
    }
   ],
   "source": [
    "train_proteins_df.head()"
   ]
  },
  {
   "cell_type": "code",
   "execution_count": null,
   "id": "2ff2d897",
   "metadata": {},
   "outputs": [],
   "source": []
  },
  {
   "cell_type": "code",
   "execution_count": 9,
   "id": "ab2f7c87",
   "metadata": {
    "scrolled": true
   },
   "outputs": [
    {
     "data": {
      "text/html": [
       "<div>\n",
       "<style scoped>\n",
       "    .dataframe tbody tr th:only-of-type {\n",
       "        vertical-align: middle;\n",
       "    }\n",
       "\n",
       "    .dataframe tbody tr th {\n",
       "        vertical-align: top;\n",
       "    }\n",
       "\n",
       "    .dataframe thead th {\n",
       "        text-align: right;\n",
       "    }\n",
       "</style>\n",
       "<table border=\"1\" class=\"dataframe\">\n",
       "  <thead>\n",
       "    <tr style=\"text-align: right;\">\n",
       "      <th></th>\n",
       "      <th>visit_id</th>\n",
       "      <th>patient_id</th>\n",
       "      <th>visit_month</th>\n",
       "      <th>updrs_1</th>\n",
       "      <th>updrs_2</th>\n",
       "      <th>updrs_3</th>\n",
       "      <th>updrs_4</th>\n",
       "      <th>upd23b_clinical_state_on_medication</th>\n",
       "    </tr>\n",
       "  </thead>\n",
       "  <tbody>\n",
       "    <tr>\n",
       "      <th>0</th>\n",
       "      <td>55_0</td>\n",
       "      <td>55</td>\n",
       "      <td>0</td>\n",
       "      <td>10.0</td>\n",
       "      <td>6.0</td>\n",
       "      <td>15.0</td>\n",
       "      <td>NaN</td>\n",
       "      <td>NaN</td>\n",
       "    </tr>\n",
       "    <tr>\n",
       "      <th>1</th>\n",
       "      <td>55_3</td>\n",
       "      <td>55</td>\n",
       "      <td>3</td>\n",
       "      <td>10.0</td>\n",
       "      <td>7.0</td>\n",
       "      <td>25.0</td>\n",
       "      <td>NaN</td>\n",
       "      <td>NaN</td>\n",
       "    </tr>\n",
       "    <tr>\n",
       "      <th>2</th>\n",
       "      <td>55_6</td>\n",
       "      <td>55</td>\n",
       "      <td>6</td>\n",
       "      <td>8.0</td>\n",
       "      <td>10.0</td>\n",
       "      <td>34.0</td>\n",
       "      <td>NaN</td>\n",
       "      <td>NaN</td>\n",
       "    </tr>\n",
       "    <tr>\n",
       "      <th>3</th>\n",
       "      <td>55_9</td>\n",
       "      <td>55</td>\n",
       "      <td>9</td>\n",
       "      <td>8.0</td>\n",
       "      <td>9.0</td>\n",
       "      <td>30.0</td>\n",
       "      <td>0.0</td>\n",
       "      <td>On</td>\n",
       "    </tr>\n",
       "    <tr>\n",
       "      <th>4</th>\n",
       "      <td>55_12</td>\n",
       "      <td>55</td>\n",
       "      <td>12</td>\n",
       "      <td>10.0</td>\n",
       "      <td>10.0</td>\n",
       "      <td>41.0</td>\n",
       "      <td>0.0</td>\n",
       "      <td>On</td>\n",
       "    </tr>\n",
       "  </tbody>\n",
       "</table>\n",
       "</div>"
      ],
      "text/plain": [
       "  visit_id  patient_id  visit_month  updrs_1  updrs_2  updrs_3  updrs_4  \\\n",
       "0     55_0          55            0     10.0      6.0     15.0      NaN   \n",
       "1     55_3          55            3     10.0      7.0     25.0      NaN   \n",
       "2     55_6          55            6      8.0     10.0     34.0      NaN   \n",
       "3     55_9          55            9      8.0      9.0     30.0      0.0   \n",
       "4    55_12          55           12     10.0     10.0     41.0      0.0   \n",
       "\n",
       "  upd23b_clinical_state_on_medication  \n",
       "0                                 NaN  \n",
       "1                                 NaN  \n",
       "2                                 NaN  \n",
       "3                                  On  \n",
       "4                                  On  "
      ]
     },
     "execution_count": 9,
     "metadata": {},
     "output_type": "execute_result"
    }
   ],
   "source": [
    "train_clinical_data_df.head()"
   ]
  },
  {
   "cell_type": "code",
   "execution_count": null,
   "id": "26b1e0c7",
   "metadata": {},
   "outputs": [],
   "source": []
  },
  {
   "cell_type": "code",
   "execution_count": 10,
   "id": "ceff0360",
   "metadata": {
    "scrolled": true
   },
   "outputs": [
    {
     "data": {
      "text/html": [
       "<div>\n",
       "<style scoped>\n",
       "    .dataframe tbody tr th:only-of-type {\n",
       "        vertical-align: middle;\n",
       "    }\n",
       "\n",
       "    .dataframe tbody tr th {\n",
       "        vertical-align: top;\n",
       "    }\n",
       "\n",
       "    .dataframe thead th {\n",
       "        text-align: right;\n",
       "    }\n",
       "</style>\n",
       "<table border=\"1\" class=\"dataframe\">\n",
       "  <thead>\n",
       "    <tr style=\"text-align: right;\">\n",
       "      <th></th>\n",
       "      <th>visit_id</th>\n",
       "      <th>patient_id</th>\n",
       "      <th>visit_month</th>\n",
       "      <th>updrs_1</th>\n",
       "      <th>updrs_2</th>\n",
       "      <th>updrs_3</th>\n",
       "      <th>updrs_4</th>\n",
       "      <th>upd23b_clinical_state_on_medication</th>\n",
       "    </tr>\n",
       "  </thead>\n",
       "  <tbody>\n",
       "    <tr>\n",
       "      <th>0</th>\n",
       "      <td>35_0</td>\n",
       "      <td>35</td>\n",
       "      <td>0</td>\n",
       "      <td>5.0</td>\n",
       "      <td>3.0</td>\n",
       "      <td>16.0</td>\n",
       "      <td>0.0</td>\n",
       "      <td>NaN</td>\n",
       "    </tr>\n",
       "    <tr>\n",
       "      <th>1</th>\n",
       "      <td>35_36</td>\n",
       "      <td>35</td>\n",
       "      <td>36</td>\n",
       "      <td>6.0</td>\n",
       "      <td>4.0</td>\n",
       "      <td>20.0</td>\n",
       "      <td>0.0</td>\n",
       "      <td>NaN</td>\n",
       "    </tr>\n",
       "    <tr>\n",
       "      <th>2</th>\n",
       "      <td>75_0</td>\n",
       "      <td>75</td>\n",
       "      <td>0</td>\n",
       "      <td>4.0</td>\n",
       "      <td>6.0</td>\n",
       "      <td>26.0</td>\n",
       "      <td>0.0</td>\n",
       "      <td>NaN</td>\n",
       "    </tr>\n",
       "  </tbody>\n",
       "</table>\n",
       "</div>"
      ],
      "text/plain": [
       "  visit_id  patient_id  visit_month  updrs_1  updrs_2  updrs_3  updrs_4  \\\n",
       "0     35_0          35            0      5.0      3.0     16.0      0.0   \n",
       "1    35_36          35           36      6.0      4.0     20.0      0.0   \n",
       "2     75_0          75            0      4.0      6.0     26.0      0.0   \n",
       "\n",
       "  upd23b_clinical_state_on_medication  \n",
       "0                                 NaN  \n",
       "1                                 NaN  \n",
       "2                                 NaN  "
      ]
     },
     "execution_count": 10,
     "metadata": {},
     "output_type": "execute_result"
    }
   ],
   "source": [
    "supplemental_clinical_data_df.head(3)"
   ]
  },
  {
   "cell_type": "code",
   "execution_count": null,
   "id": "62cb4983",
   "metadata": {},
   "outputs": [],
   "source": []
  },
  {
   "cell_type": "markdown",
   "id": "a50cade0",
   "metadata": {},
   "source": [
    "### Step-4 Data cleaning"
   ]
  },
  {
   "cell_type": "code",
   "execution_count": 11,
   "id": "6a82d351",
   "metadata": {},
   "outputs": [],
   "source": [
    "# Rename columns for train_peptides_df\n",
    "train_peptides_df.rename(columns={'Peptide': 'Peptide_Seq',\n",
    "                                  'PeptideAbundance': 'Peptide_Abundance'}, inplace=True)\n",
    "\n",
    "# Rename columns for train_proteins_df\n",
    "train_proteins_df.rename(columns={'NPX': 'NPX_Level'}, inplace=True)\n",
    "\n",
    "# Rename columns for train_clinical_data_df\n",
    "train_clinical_data_df.rename(columns={'upd23b_clinical_state_on_medication': 'On_Medication'}, inplace=True)\n",
    "\n",
    "# Rename columns for supplemental_clinical_data_df\n",
    "supplemental_clinical_data_df.rename(columns={'upd23b_clinical_state_on_medication': 'On_Medication'}, inplace=True)\n"
   ]
  },
  {
   "cell_type": "code",
   "execution_count": null,
   "id": "0b67e579",
   "metadata": {},
   "outputs": [],
   "source": []
  },
  {
   "cell_type": "code",
   "execution_count": 12,
   "id": "ed6a88bf",
   "metadata": {},
   "outputs": [
    {
     "data": {
      "text/html": [
       "<div>\n",
       "<style scoped>\n",
       "    .dataframe tbody tr th:only-of-type {\n",
       "        vertical-align: middle;\n",
       "    }\n",
       "\n",
       "    .dataframe tbody tr th {\n",
       "        vertical-align: top;\n",
       "    }\n",
       "\n",
       "    .dataframe thead th {\n",
       "        text-align: right;\n",
       "    }\n",
       "</style>\n",
       "<table border=\"1\" class=\"dataframe\">\n",
       "  <thead>\n",
       "    <tr style=\"text-align: right;\">\n",
       "      <th></th>\n",
       "      <th>visit_id</th>\n",
       "      <th>visit_month</th>\n",
       "      <th>patient_id</th>\n",
       "      <th>UniProt</th>\n",
       "      <th>Peptide_Seq</th>\n",
       "      <th>Peptide_Abundance</th>\n",
       "    </tr>\n",
       "  </thead>\n",
       "  <tbody>\n",
       "    <tr>\n",
       "      <th>0</th>\n",
       "      <td>55_0</td>\n",
       "      <td>0</td>\n",
       "      <td>55</td>\n",
       "      <td>O00391</td>\n",
       "      <td>NEQEQPLGQWHLS</td>\n",
       "      <td>11254.3</td>\n",
       "    </tr>\n",
       "    <tr>\n",
       "      <th>1</th>\n",
       "      <td>55_0</td>\n",
       "      <td>0</td>\n",
       "      <td>55</td>\n",
       "      <td>O00533</td>\n",
       "      <td>GNPEPTFSWTK</td>\n",
       "      <td>102060.0</td>\n",
       "    </tr>\n",
       "  </tbody>\n",
       "</table>\n",
       "</div>"
      ],
      "text/plain": [
       "  visit_id  visit_month  patient_id UniProt    Peptide_Seq  Peptide_Abundance\n",
       "0     55_0            0          55  O00391  NEQEQPLGQWHLS            11254.3\n",
       "1     55_0            0          55  O00533    GNPEPTFSWTK           102060.0"
      ]
     },
     "execution_count": 12,
     "metadata": {},
     "output_type": "execute_result"
    }
   ],
   "source": [
    "train_peptides_df.head(2)"
   ]
  },
  {
   "cell_type": "code",
   "execution_count": null,
   "id": "c802385e",
   "metadata": {},
   "outputs": [],
   "source": []
  },
  {
   "cell_type": "code",
   "execution_count": 13,
   "id": "72538562",
   "metadata": {},
   "outputs": [
    {
     "data": {
      "text/plain": [
       "248"
      ]
     },
     "execution_count": 13,
     "metadata": {},
     "output_type": "execute_result"
    }
   ],
   "source": [
    "train_peptides_df['patient_id'].nunique()"
   ]
  },
  {
   "cell_type": "code",
   "execution_count": null,
   "id": "49ae70ed",
   "metadata": {},
   "outputs": [],
   "source": []
  },
  {
   "cell_type": "code",
   "execution_count": 14,
   "id": "2fe69a29",
   "metadata": {
    "scrolled": true
   },
   "outputs": [
    {
     "data": {
      "text/html": [
       "<div>\n",
       "<style scoped>\n",
       "    .dataframe tbody tr th:only-of-type {\n",
       "        vertical-align: middle;\n",
       "    }\n",
       "\n",
       "    .dataframe tbody tr th {\n",
       "        vertical-align: top;\n",
       "    }\n",
       "\n",
       "    .dataframe thead th {\n",
       "        text-align: right;\n",
       "    }\n",
       "</style>\n",
       "<table border=\"1\" class=\"dataframe\">\n",
       "  <thead>\n",
       "    <tr style=\"text-align: right;\">\n",
       "      <th></th>\n",
       "      <th>visit_id</th>\n",
       "      <th>visit_month</th>\n",
       "      <th>patient_id</th>\n",
       "      <th>UniProt</th>\n",
       "      <th>NPX_Level</th>\n",
       "    </tr>\n",
       "  </thead>\n",
       "  <tbody>\n",
       "    <tr>\n",
       "      <th>0</th>\n",
       "      <td>55_0</td>\n",
       "      <td>0</td>\n",
       "      <td>55</td>\n",
       "      <td>O00391</td>\n",
       "      <td>11254.3</td>\n",
       "    </tr>\n",
       "    <tr>\n",
       "      <th>1</th>\n",
       "      <td>55_0</td>\n",
       "      <td>0</td>\n",
       "      <td>55</td>\n",
       "      <td>O00533</td>\n",
       "      <td>732430.0</td>\n",
       "    </tr>\n",
       "  </tbody>\n",
       "</table>\n",
       "</div>"
      ],
      "text/plain": [
       "  visit_id  visit_month  patient_id UniProt  NPX_Level\n",
       "0     55_0            0          55  O00391    11254.3\n",
       "1     55_0            0          55  O00533   732430.0"
      ]
     },
     "execution_count": 14,
     "metadata": {},
     "output_type": "execute_result"
    }
   ],
   "source": [
    "train_proteins_df.head(2)"
   ]
  },
  {
   "cell_type": "code",
   "execution_count": 15,
   "id": "3b6ea178",
   "metadata": {},
   "outputs": [
    {
     "data": {
      "text/plain": [
       "248"
      ]
     },
     "execution_count": 15,
     "metadata": {},
     "output_type": "execute_result"
    }
   ],
   "source": [
    "train_proteins_df['patient_id'].nunique()"
   ]
  },
  {
   "cell_type": "code",
   "execution_count": 16,
   "id": "9aeec6ec",
   "metadata": {},
   "outputs": [],
   "source": [
    "# Merged two csv train_peptides_df, train_proteins_df \n",
    "merged_df = pd.merge(train_peptides_df, train_proteins_df, on=['visit_id', 'visit_month', 'patient_id', 'UniProt'])\n"
   ]
  },
  {
   "cell_type": "code",
   "execution_count": 17,
   "id": "e6652712",
   "metadata": {},
   "outputs": [
    {
     "data": {
      "text/plain": [
       "248"
      ]
     },
     "execution_count": 17,
     "metadata": {},
     "output_type": "execute_result"
    }
   ],
   "source": [
    "merged_df['patient_id'].nunique()"
   ]
  },
  {
   "cell_type": "code",
   "execution_count": 18,
   "id": "5d645276",
   "metadata": {},
   "outputs": [
    {
     "data": {
      "text/html": [
       "<div>\n",
       "<style scoped>\n",
       "    .dataframe tbody tr th:only-of-type {\n",
       "        vertical-align: middle;\n",
       "    }\n",
       "\n",
       "    .dataframe tbody tr th {\n",
       "        vertical-align: top;\n",
       "    }\n",
       "\n",
       "    .dataframe thead th {\n",
       "        text-align: right;\n",
       "    }\n",
       "</style>\n",
       "<table border=\"1\" class=\"dataframe\">\n",
       "  <thead>\n",
       "    <tr style=\"text-align: right;\">\n",
       "      <th></th>\n",
       "      <th>visit_id</th>\n",
       "      <th>visit_month</th>\n",
       "      <th>patient_id</th>\n",
       "      <th>UniProt</th>\n",
       "      <th>Peptide_Seq</th>\n",
       "      <th>Peptide_Abundance</th>\n",
       "      <th>NPX_Level</th>\n",
       "    </tr>\n",
       "  </thead>\n",
       "  <tbody>\n",
       "    <tr>\n",
       "      <th>0</th>\n",
       "      <td>55_0</td>\n",
       "      <td>0</td>\n",
       "      <td>55</td>\n",
       "      <td>O00391</td>\n",
       "      <td>NEQEQPLGQWHLS</td>\n",
       "      <td>11254.3</td>\n",
       "      <td>11254.3</td>\n",
       "    </tr>\n",
       "    <tr>\n",
       "      <th>1</th>\n",
       "      <td>55_0</td>\n",
       "      <td>0</td>\n",
       "      <td>55</td>\n",
       "      <td>O00533</td>\n",
       "      <td>GNPEPTFSWTK</td>\n",
       "      <td>102060.0</td>\n",
       "      <td>732430.0</td>\n",
       "    </tr>\n",
       "    <tr>\n",
       "      <th>2</th>\n",
       "      <td>55_0</td>\n",
       "      <td>0</td>\n",
       "      <td>55</td>\n",
       "      <td>O00533</td>\n",
       "      <td>IEIPSSVQQVPTIIK</td>\n",
       "      <td>174185.0</td>\n",
       "      <td>732430.0</td>\n",
       "    </tr>\n",
       "    <tr>\n",
       "      <th>3</th>\n",
       "      <td>55_0</td>\n",
       "      <td>0</td>\n",
       "      <td>55</td>\n",
       "      <td>O00533</td>\n",
       "      <td>KPQSAVYSTGSNGILLC(UniMod_4)EAEGEPQPTIK</td>\n",
       "      <td>27278.9</td>\n",
       "      <td>732430.0</td>\n",
       "    </tr>\n",
       "    <tr>\n",
       "      <th>4</th>\n",
       "      <td>55_0</td>\n",
       "      <td>0</td>\n",
       "      <td>55</td>\n",
       "      <td>O00533</td>\n",
       "      <td>SMEQNGPGLEYR</td>\n",
       "      <td>30838.7</td>\n",
       "      <td>732430.0</td>\n",
       "    </tr>\n",
       "  </tbody>\n",
       "</table>\n",
       "</div>"
      ],
      "text/plain": [
       "  visit_id  visit_month  patient_id UniProt  \\\n",
       "0     55_0            0          55  O00391   \n",
       "1     55_0            0          55  O00533   \n",
       "2     55_0            0          55  O00533   \n",
       "3     55_0            0          55  O00533   \n",
       "4     55_0            0          55  O00533   \n",
       "\n",
       "                              Peptide_Seq  Peptide_Abundance  NPX_Level  \n",
       "0                           NEQEQPLGQWHLS            11254.3    11254.3  \n",
       "1                             GNPEPTFSWTK           102060.0   732430.0  \n",
       "2                         IEIPSSVQQVPTIIK           174185.0   732430.0  \n",
       "3  KPQSAVYSTGSNGILLC(UniMod_4)EAEGEPQPTIK            27278.9   732430.0  \n",
       "4                            SMEQNGPGLEYR            30838.7   732430.0  "
      ]
     },
     "execution_count": 18,
     "metadata": {},
     "output_type": "execute_result"
    }
   ],
   "source": [
    "merged_df.head(5)"
   ]
  },
  {
   "cell_type": "code",
   "execution_count": 19,
   "id": "67218b5c",
   "metadata": {
    "scrolled": true
   },
   "outputs": [
    {
     "data": {
      "text/html": [
       "<div>\n",
       "<style scoped>\n",
       "    .dataframe tbody tr th:only-of-type {\n",
       "        vertical-align: middle;\n",
       "    }\n",
       "\n",
       "    .dataframe tbody tr th {\n",
       "        vertical-align: top;\n",
       "    }\n",
       "\n",
       "    .dataframe thead th {\n",
       "        text-align: right;\n",
       "    }\n",
       "</style>\n",
       "<table border=\"1\" class=\"dataframe\">\n",
       "  <thead>\n",
       "    <tr style=\"text-align: right;\">\n",
       "      <th></th>\n",
       "      <th>visit_id</th>\n",
       "      <th>patient_id</th>\n",
       "      <th>visit_month</th>\n",
       "      <th>updrs_1</th>\n",
       "      <th>updrs_2</th>\n",
       "      <th>updrs_3</th>\n",
       "      <th>updrs_4</th>\n",
       "      <th>On_Medication</th>\n",
       "    </tr>\n",
       "  </thead>\n",
       "  <tbody>\n",
       "    <tr>\n",
       "      <th>2613</th>\n",
       "      <td>65043_72</td>\n",
       "      <td>65043</td>\n",
       "      <td>72</td>\n",
       "      <td>3.0</td>\n",
       "      <td>9.0</td>\n",
       "      <td>14.0</td>\n",
       "      <td>1.0</td>\n",
       "      <td>Off</td>\n",
       "    </tr>\n",
       "    <tr>\n",
       "      <th>2614</th>\n",
       "      <td>65043_84</td>\n",
       "      <td>65043</td>\n",
       "      <td>84</td>\n",
       "      <td>7.0</td>\n",
       "      <td>9.0</td>\n",
       "      <td>20.0</td>\n",
       "      <td>3.0</td>\n",
       "      <td>Off</td>\n",
       "    </tr>\n",
       "  </tbody>\n",
       "</table>\n",
       "</div>"
      ],
      "text/plain": [
       "      visit_id  patient_id  visit_month  updrs_1  updrs_2  updrs_3  updrs_4  \\\n",
       "2613  65043_72       65043           72      3.0      9.0     14.0      1.0   \n",
       "2614  65043_84       65043           84      7.0      9.0     20.0      3.0   \n",
       "\n",
       "     On_Medication  \n",
       "2613           Off  \n",
       "2614           Off  "
      ]
     },
     "execution_count": 19,
     "metadata": {},
     "output_type": "execute_result"
    }
   ],
   "source": [
    "train_clinical_data_df.tail(2)"
   ]
  },
  {
   "cell_type": "code",
   "execution_count": 20,
   "id": "f7dea749",
   "metadata": {},
   "outputs": [
    {
     "data": {
      "text/plain": [
       "248"
      ]
     },
     "execution_count": 20,
     "metadata": {},
     "output_type": "execute_result"
    }
   ],
   "source": [
    "train_clinical_data_df['patient_id'].nunique()"
   ]
  },
  {
   "cell_type": "code",
   "execution_count": 21,
   "id": "c6234dce",
   "metadata": {
    "scrolled": true
   },
   "outputs": [
    {
     "data": {
      "text/html": [
       "<div>\n",
       "<style scoped>\n",
       "    .dataframe tbody tr th:only-of-type {\n",
       "        vertical-align: middle;\n",
       "    }\n",
       "\n",
       "    .dataframe tbody tr th {\n",
       "        vertical-align: top;\n",
       "    }\n",
       "\n",
       "    .dataframe thead th {\n",
       "        text-align: right;\n",
       "    }\n",
       "</style>\n",
       "<table border=\"1\" class=\"dataframe\">\n",
       "  <thead>\n",
       "    <tr style=\"text-align: right;\">\n",
       "      <th></th>\n",
       "      <th>visit_id</th>\n",
       "      <th>patient_id</th>\n",
       "      <th>visit_month</th>\n",
       "      <th>updrs_1</th>\n",
       "      <th>updrs_2</th>\n",
       "      <th>updrs_3</th>\n",
       "      <th>updrs_4</th>\n",
       "      <th>On_Medication</th>\n",
       "    </tr>\n",
       "  </thead>\n",
       "  <tbody>\n",
       "    <tr>\n",
       "      <th>0</th>\n",
       "      <td>35_0</td>\n",
       "      <td>35</td>\n",
       "      <td>0</td>\n",
       "      <td>5.0</td>\n",
       "      <td>3.0</td>\n",
       "      <td>16.0</td>\n",
       "      <td>0.0</td>\n",
       "      <td>NaN</td>\n",
       "    </tr>\n",
       "    <tr>\n",
       "      <th>1</th>\n",
       "      <td>35_36</td>\n",
       "      <td>35</td>\n",
       "      <td>36</td>\n",
       "      <td>6.0</td>\n",
       "      <td>4.0</td>\n",
       "      <td>20.0</td>\n",
       "      <td>0.0</td>\n",
       "      <td>NaN</td>\n",
       "    </tr>\n",
       "  </tbody>\n",
       "</table>\n",
       "</div>"
      ],
      "text/plain": [
       "  visit_id  patient_id  visit_month  updrs_1  updrs_2  updrs_3  updrs_4  \\\n",
       "0     35_0          35            0      5.0      3.0     16.0      0.0   \n",
       "1    35_36          35           36      6.0      4.0     20.0      0.0   \n",
       "\n",
       "  On_Medication  \n",
       "0           NaN  \n",
       "1           NaN  "
      ]
     },
     "execution_count": 21,
     "metadata": {},
     "output_type": "execute_result"
    }
   ],
   "source": [
    "supplemental_clinical_data_df.head(2)"
   ]
  },
  {
   "cell_type": "code",
   "execution_count": 22,
   "id": "ebd39293",
   "metadata": {},
   "outputs": [
    {
     "data": {
      "text/plain": [
       "771"
      ]
     },
     "execution_count": 22,
     "metadata": {},
     "output_type": "execute_result"
    }
   ],
   "source": [
    "supplemental_clinical_data_df['patient_id'].nunique()"
   ]
  },
  {
   "cell_type": "code",
   "execution_count": 23,
   "id": "bf92dca5",
   "metadata": {},
   "outputs": [],
   "source": [
    "# Concat two csv train_clinical_data_df, supplemental_clinical_data_df\n",
    "\n",
    "merged_clinical_data = pd.concat([train_clinical_data_df, supplemental_clinical_data_df], ignore_index=True).drop_duplicates()"
   ]
  },
  {
   "cell_type": "code",
   "execution_count": 24,
   "id": "01c7c537",
   "metadata": {},
   "outputs": [
    {
     "data": {
      "text/plain": [
       "1019"
      ]
     },
     "execution_count": 24,
     "metadata": {},
     "output_type": "execute_result"
    }
   ],
   "source": [
    "merged_clinical_data['patient_id'].nunique()"
   ]
  },
  {
   "cell_type": "code",
   "execution_count": 25,
   "id": "25ebf1f6",
   "metadata": {},
   "outputs": [
    {
     "data": {
      "text/html": [
       "<div>\n",
       "<style scoped>\n",
       "    .dataframe tbody tr th:only-of-type {\n",
       "        vertical-align: middle;\n",
       "    }\n",
       "\n",
       "    .dataframe tbody tr th {\n",
       "        vertical-align: top;\n",
       "    }\n",
       "\n",
       "    .dataframe thead th {\n",
       "        text-align: right;\n",
       "    }\n",
       "</style>\n",
       "<table border=\"1\" class=\"dataframe\">\n",
       "  <thead>\n",
       "    <tr style=\"text-align: right;\">\n",
       "      <th></th>\n",
       "      <th>visit_id</th>\n",
       "      <th>patient_id</th>\n",
       "      <th>visit_month</th>\n",
       "      <th>updrs_1</th>\n",
       "      <th>updrs_2</th>\n",
       "      <th>updrs_3</th>\n",
       "      <th>updrs_4</th>\n",
       "      <th>On_Medication</th>\n",
       "    </tr>\n",
       "  </thead>\n",
       "  <tbody>\n",
       "    <tr>\n",
       "      <th>0</th>\n",
       "      <td>55_0</td>\n",
       "      <td>55</td>\n",
       "      <td>0</td>\n",
       "      <td>10.0</td>\n",
       "      <td>6.0</td>\n",
       "      <td>15.0</td>\n",
       "      <td>NaN</td>\n",
       "      <td>NaN</td>\n",
       "    </tr>\n",
       "    <tr>\n",
       "      <th>1</th>\n",
       "      <td>55_3</td>\n",
       "      <td>55</td>\n",
       "      <td>3</td>\n",
       "      <td>10.0</td>\n",
       "      <td>7.0</td>\n",
       "      <td>25.0</td>\n",
       "      <td>NaN</td>\n",
       "      <td>NaN</td>\n",
       "    </tr>\n",
       "  </tbody>\n",
       "</table>\n",
       "</div>"
      ],
      "text/plain": [
       "  visit_id  patient_id  visit_month  updrs_1  updrs_2  updrs_3  updrs_4  \\\n",
       "0     55_0          55            0     10.0      6.0     15.0      NaN   \n",
       "1     55_3          55            3     10.0      7.0     25.0      NaN   \n",
       "\n",
       "  On_Medication  \n",
       "0           NaN  \n",
       "1           NaN  "
      ]
     },
     "execution_count": 25,
     "metadata": {},
     "output_type": "execute_result"
    }
   ],
   "source": [
    "merged_clinical_data.head(2)"
   ]
  },
  {
   "cell_type": "code",
   "execution_count": 26,
   "id": "8fae0be2",
   "metadata": {},
   "outputs": [
    {
     "data": {
      "text/plain": [
       "(4838, 8)"
      ]
     },
     "execution_count": 26,
     "metadata": {},
     "output_type": "execute_result"
    }
   ],
   "source": [
    "merged_clinical_data.shape"
   ]
  },
  {
   "cell_type": "code",
   "execution_count": 27,
   "id": "bafa20b9",
   "metadata": {},
   "outputs": [
    {
     "data": {
      "text/plain": [
       "(981834, 7)"
      ]
     },
     "execution_count": 27,
     "metadata": {},
     "output_type": "execute_result"
    }
   ],
   "source": [
    "merged_df.shape"
   ]
  },
  {
   "cell_type": "code",
   "execution_count": 28,
   "id": "29ae45d5",
   "metadata": {},
   "outputs": [
    {
     "data": {
      "text/plain": [
       "986672"
      ]
     },
     "execution_count": 28,
     "metadata": {},
     "output_type": "execute_result"
    }
   ],
   "source": [
    "4838+981834"
   ]
  },
  {
   "cell_type": "code",
   "execution_count": 29,
   "id": "21be3806",
   "metadata": {},
   "outputs": [],
   "source": [
    "# Now I have two Data Frame merged_df, merged_clinical_data\n",
    "# I mergeed both in single Data frame \n",
    "\n",
    "merged_data = pd.merge(merged_df, merged_clinical_data, on=['patient_id', 'visit_id', 'visit_month'])"
   ]
  },
  {
   "cell_type": "code",
   "execution_count": 30,
   "id": "3f73ca36",
   "metadata": {},
   "outputs": [
    {
     "data": {
      "text/html": [
       "<div>\n",
       "<style scoped>\n",
       "    .dataframe tbody tr th:only-of-type {\n",
       "        vertical-align: middle;\n",
       "    }\n",
       "\n",
       "    .dataframe tbody tr th {\n",
       "        vertical-align: top;\n",
       "    }\n",
       "\n",
       "    .dataframe thead th {\n",
       "        text-align: right;\n",
       "    }\n",
       "</style>\n",
       "<table border=\"1\" class=\"dataframe\">\n",
       "  <thead>\n",
       "    <tr style=\"text-align: right;\">\n",
       "      <th></th>\n",
       "      <th>visit_id</th>\n",
       "      <th>visit_month</th>\n",
       "      <th>patient_id</th>\n",
       "      <th>UniProt</th>\n",
       "      <th>Peptide_Seq</th>\n",
       "      <th>Peptide_Abundance</th>\n",
       "      <th>NPX_Level</th>\n",
       "      <th>updrs_1</th>\n",
       "      <th>updrs_2</th>\n",
       "      <th>updrs_3</th>\n",
       "      <th>updrs_4</th>\n",
       "      <th>On_Medication</th>\n",
       "    </tr>\n",
       "  </thead>\n",
       "  <tbody>\n",
       "    <tr>\n",
       "      <th>0</th>\n",
       "      <td>55_0</td>\n",
       "      <td>0</td>\n",
       "      <td>55</td>\n",
       "      <td>O00391</td>\n",
       "      <td>NEQEQPLGQWHLS</td>\n",
       "      <td>11254.3</td>\n",
       "      <td>11254.3</td>\n",
       "      <td>10.0</td>\n",
       "      <td>6.0</td>\n",
       "      <td>15.0</td>\n",
       "      <td>NaN</td>\n",
       "      <td>NaN</td>\n",
       "    </tr>\n",
       "    <tr>\n",
       "      <th>1</th>\n",
       "      <td>55_0</td>\n",
       "      <td>0</td>\n",
       "      <td>55</td>\n",
       "      <td>O00533</td>\n",
       "      <td>GNPEPTFSWTK</td>\n",
       "      <td>102060.0</td>\n",
       "      <td>732430.0</td>\n",
       "      <td>10.0</td>\n",
       "      <td>6.0</td>\n",
       "      <td>15.0</td>\n",
       "      <td>NaN</td>\n",
       "      <td>NaN</td>\n",
       "    </tr>\n",
       "  </tbody>\n",
       "</table>\n",
       "</div>"
      ],
      "text/plain": [
       "  visit_id  visit_month  patient_id UniProt    Peptide_Seq  Peptide_Abundance  \\\n",
       "0     55_0            0          55  O00391  NEQEQPLGQWHLS            11254.3   \n",
       "1     55_0            0          55  O00533    GNPEPTFSWTK           102060.0   \n",
       "\n",
       "   NPX_Level  updrs_1  updrs_2  updrs_3  updrs_4 On_Medication  \n",
       "0    11254.3     10.0      6.0     15.0      NaN           NaN  \n",
       "1   732430.0     10.0      6.0     15.0      NaN           NaN  "
      ]
     },
     "execution_count": 30,
     "metadata": {},
     "output_type": "execute_result"
    }
   ],
   "source": [
    "merged_data.head(2)"
   ]
  },
  {
   "cell_type": "code",
   "execution_count": 31,
   "id": "2510c282",
   "metadata": {},
   "outputs": [
    {
     "data": {
      "text/plain": [
       "(941744, 12)"
      ]
     },
     "execution_count": 31,
     "metadata": {},
     "output_type": "execute_result"
    }
   ],
   "source": [
    "merged_data.shape"
   ]
  },
  {
   "cell_type": "code",
   "execution_count": 32,
   "id": "f166a31c",
   "metadata": {},
   "outputs": [],
   "source": [
    "merged_data.drop_duplicates(inplace=True)"
   ]
  },
  {
   "cell_type": "code",
   "execution_count": 33,
   "id": "fec4ae73",
   "metadata": {},
   "outputs": [
    {
     "data": {
      "text/plain": [
       "(941744, 12)"
      ]
     },
     "execution_count": 33,
     "metadata": {},
     "output_type": "execute_result"
    }
   ],
   "source": [
    "merged_data.shape"
   ]
  },
  {
   "cell_type": "code",
   "execution_count": 34,
   "id": "821c91ee",
   "metadata": {},
   "outputs": [],
   "source": [
    "merged_data = merged_data.rename(columns={'visit_id': 'Visit ID',\n",
    "                                          'visit_month': 'Visit Month',\n",
    "                                          'patient_id': 'Patient ID',\n",
    "                                          'UniProt': 'Protein ID',\n",
    "                                          'Peptide_Seq': 'Peptide Sequence',\n",
    "                                          'Peptide_Abundance': 'Peptide Abundance',\n",
    "                                          'NPX_Level': 'Protein Abundance',\n",
    "                                          'updrs_1': 'UPDRS Part I',\n",
    "                                          'updrs_2': 'UPDRS Part II',\n",
    "                                          'updrs_3': 'UPDRS Part III',\n",
    "                                          'updrs_4': 'UPDRS Part IV',\n",
    "                                          'On_Medication': 'On Medication'})\n"
   ]
  },
  {
   "cell_type": "code",
   "execution_count": 35,
   "id": "c3b80159",
   "metadata": {
    "scrolled": true
   },
   "outputs": [
    {
     "data": {
      "text/html": [
       "<div>\n",
       "<style scoped>\n",
       "    .dataframe tbody tr th:only-of-type {\n",
       "        vertical-align: middle;\n",
       "    }\n",
       "\n",
       "    .dataframe tbody tr th {\n",
       "        vertical-align: top;\n",
       "    }\n",
       "\n",
       "    .dataframe thead th {\n",
       "        text-align: right;\n",
       "    }\n",
       "</style>\n",
       "<table border=\"1\" class=\"dataframe\">\n",
       "  <thead>\n",
       "    <tr style=\"text-align: right;\">\n",
       "      <th></th>\n",
       "      <th>Visit ID</th>\n",
       "      <th>Visit Month</th>\n",
       "      <th>Patient ID</th>\n",
       "      <th>Protein ID</th>\n",
       "      <th>Peptide Sequence</th>\n",
       "      <th>Peptide Abundance</th>\n",
       "      <th>Protein Abundance</th>\n",
       "      <th>UPDRS Part I</th>\n",
       "      <th>UPDRS Part II</th>\n",
       "      <th>UPDRS Part III</th>\n",
       "      <th>UPDRS Part IV</th>\n",
       "      <th>On Medication</th>\n",
       "    </tr>\n",
       "  </thead>\n",
       "  <tbody>\n",
       "    <tr>\n",
       "      <th>0</th>\n",
       "      <td>55_0</td>\n",
       "      <td>0</td>\n",
       "      <td>55</td>\n",
       "      <td>O00391</td>\n",
       "      <td>NEQEQPLGQWHLS</td>\n",
       "      <td>11254.3</td>\n",
       "      <td>11254.3</td>\n",
       "      <td>10.0</td>\n",
       "      <td>6.0</td>\n",
       "      <td>15.0</td>\n",
       "      <td>NaN</td>\n",
       "      <td>NaN</td>\n",
       "    </tr>\n",
       "    <tr>\n",
       "      <th>1</th>\n",
       "      <td>55_0</td>\n",
       "      <td>0</td>\n",
       "      <td>55</td>\n",
       "      <td>O00533</td>\n",
       "      <td>GNPEPTFSWTK</td>\n",
       "      <td>102060.0</td>\n",
       "      <td>732430.0</td>\n",
       "      <td>10.0</td>\n",
       "      <td>6.0</td>\n",
       "      <td>15.0</td>\n",
       "      <td>NaN</td>\n",
       "      <td>NaN</td>\n",
       "    </tr>\n",
       "  </tbody>\n",
       "</table>\n",
       "</div>"
      ],
      "text/plain": [
       "  Visit ID  Visit Month  Patient ID Protein ID Peptide Sequence  \\\n",
       "0     55_0            0          55     O00391    NEQEQPLGQWHLS   \n",
       "1     55_0            0          55     O00533      GNPEPTFSWTK   \n",
       "\n",
       "   Peptide Abundance  Protein Abundance  UPDRS Part I  UPDRS Part II  \\\n",
       "0            11254.3            11254.3          10.0            6.0   \n",
       "1           102060.0           732430.0          10.0            6.0   \n",
       "\n",
       "   UPDRS Part III  UPDRS Part IV On Medication  \n",
       "0            15.0            NaN           NaN  \n",
       "1            15.0            NaN           NaN  "
      ]
     },
     "execution_count": 35,
     "metadata": {},
     "output_type": "execute_result"
    }
   ],
   "source": [
    "merged_data.head(2)"
   ]
  },
  {
   "cell_type": "markdown",
   "id": "7f59d446",
   "metadata": {},
   "source": [
    "### Step-4 Data cleaning"
   ]
  },
  {
   "cell_type": "code",
   "execution_count": 36,
   "id": "bf01049e",
   "metadata": {},
   "outputs": [
    {
     "data": {
      "text/plain": [
       "Visit ID                  0\n",
       "Visit Month               0\n",
       "Patient ID                0\n",
       "Protein ID                0\n",
       "Peptide Sequence          0\n",
       "Peptide Abundance         0\n",
       "Protein Abundance         0\n",
       "UPDRS Part I              0\n",
       "UPDRS Part II             0\n",
       "UPDRS Part III         9120\n",
       "UPDRS Part IV        446214\n",
       "On Medication        550019\n",
       "dtype: int64"
      ]
     },
     "execution_count": 36,
     "metadata": {},
     "output_type": "execute_result"
    }
   ],
   "source": [
    "merged_data.isna().sum()"
   ]
  },
  {
   "cell_type": "code",
   "execution_count": 37,
   "id": "1a630718",
   "metadata": {},
   "outputs": [],
   "source": [
    "merged_data.dropna(inplace=True)"
   ]
  },
  {
   "cell_type": "code",
   "execution_count": 38,
   "id": "415026e4",
   "metadata": {},
   "outputs": [
    {
     "data": {
      "text/plain": [
       "(381841, 12)"
      ]
     },
     "execution_count": 38,
     "metadata": {},
     "output_type": "execute_result"
    }
   ],
   "source": [
    "merged_data.shape"
   ]
  },
  {
   "cell_type": "code",
   "execution_count": 39,
   "id": "cc9da18e",
   "metadata": {},
   "outputs": [
    {
     "data": {
      "text/html": [
       "<div>\n",
       "<style scoped>\n",
       "    .dataframe tbody tr th:only-of-type {\n",
       "        vertical-align: middle;\n",
       "    }\n",
       "\n",
       "    .dataframe tbody tr th {\n",
       "        vertical-align: top;\n",
       "    }\n",
       "\n",
       "    .dataframe thead th {\n",
       "        text-align: right;\n",
       "    }\n",
       "</style>\n",
       "<table border=\"1\" class=\"dataframe\">\n",
       "  <thead>\n",
       "    <tr style=\"text-align: right;\">\n",
       "      <th></th>\n",
       "      <th>Visit ID</th>\n",
       "      <th>Visit Month</th>\n",
       "      <th>Patient ID</th>\n",
       "      <th>Protein ID</th>\n",
       "      <th>Peptide Sequence</th>\n",
       "      <th>Peptide Abundance</th>\n",
       "      <th>Protein Abundance</th>\n",
       "      <th>UPDRS Part I</th>\n",
       "      <th>UPDRS Part II</th>\n",
       "      <th>UPDRS Part III</th>\n",
       "      <th>UPDRS Part IV</th>\n",
       "      <th>On Medication</th>\n",
       "    </tr>\n",
       "  </thead>\n",
       "  <tbody>\n",
       "    <tr>\n",
       "      <th>931</th>\n",
       "      <td>1517_0</td>\n",
       "      <td>0</td>\n",
       "      <td>1517</td>\n",
       "      <td>O00391</td>\n",
       "      <td>NEQEQPLGQWHLS</td>\n",
       "      <td>11648.9</td>\n",
       "      <td>11648.9</td>\n",
       "      <td>11.0</td>\n",
       "      <td>6.0</td>\n",
       "      <td>25.0</td>\n",
       "      <td>5.0</td>\n",
       "      <td>On</td>\n",
       "    </tr>\n",
       "    <tr>\n",
       "      <th>932</th>\n",
       "      <td>1517_0</td>\n",
       "      <td>0</td>\n",
       "      <td>1517</td>\n",
       "      <td>O00533</td>\n",
       "      <td>GNPEPTFSWTK</td>\n",
       "      <td>63593.4</td>\n",
       "      <td>419015.0</td>\n",
       "      <td>11.0</td>\n",
       "      <td>6.0</td>\n",
       "      <td>25.0</td>\n",
       "      <td>5.0</td>\n",
       "      <td>On</td>\n",
       "    </tr>\n",
       "  </tbody>\n",
       "</table>\n",
       "</div>"
      ],
      "text/plain": [
       "    Visit ID  Visit Month  Patient ID Protein ID Peptide Sequence  \\\n",
       "931   1517_0            0        1517     O00391    NEQEQPLGQWHLS   \n",
       "932   1517_0            0        1517     O00533      GNPEPTFSWTK   \n",
       "\n",
       "     Peptide Abundance  Protein Abundance  UPDRS Part I  UPDRS Part II  \\\n",
       "931            11648.9            11648.9          11.0            6.0   \n",
       "932            63593.4           419015.0          11.0            6.0   \n",
       "\n",
       "     UPDRS Part III  UPDRS Part IV On Medication  \n",
       "931            25.0            5.0            On  \n",
       "932            25.0            5.0            On  "
      ]
     },
     "execution_count": 39,
     "metadata": {},
     "output_type": "execute_result"
    }
   ],
   "source": [
    "merged_data.head(2)"
   ]
  },
  {
   "cell_type": "markdown",
   "id": "7963d02a",
   "metadata": {},
   "source": [
    "The MDS-UPDRS scores range from 0 to 356, with the following classification for each range:\n",
    "\n",
    "0 to 8: Normal\n",
    "9 to 16: Slight\n",
    "17 to 32: Mild\n",
    "33 to 68: Moderate\n",
    "69 and above: Severe\n",
    "These ranges are based on the official MDS-UPDRS rating scale. However, it's worth noting that these ranges may vary depending on the specific study or research context."
   ]
  },
  {
   "cell_type": "code",
   "execution_count": 40,
   "id": "fa0338c1",
   "metadata": {},
   "outputs": [],
   "source": [
    "merged_data['Total UPDRS Score'] = merged_data['UPDRS Part I'] + merged_data['UPDRS Part II'] + merged_data['UPDRS Part III'] + merged_data['UPDRS Part IV']\n"
   ]
  },
  {
   "cell_type": "code",
   "execution_count": 41,
   "id": "aab1f4df",
   "metadata": {},
   "outputs": [
    {
     "data": {
      "text/html": [
       "<div>\n",
       "<style scoped>\n",
       "    .dataframe tbody tr th:only-of-type {\n",
       "        vertical-align: middle;\n",
       "    }\n",
       "\n",
       "    .dataframe tbody tr th {\n",
       "        vertical-align: top;\n",
       "    }\n",
       "\n",
       "    .dataframe thead th {\n",
       "        text-align: right;\n",
       "    }\n",
       "</style>\n",
       "<table border=\"1\" class=\"dataframe\">\n",
       "  <thead>\n",
       "    <tr style=\"text-align: right;\">\n",
       "      <th></th>\n",
       "      <th>Visit ID</th>\n",
       "      <th>Visit Month</th>\n",
       "      <th>Patient ID</th>\n",
       "      <th>Protein ID</th>\n",
       "      <th>Peptide Sequence</th>\n",
       "      <th>Peptide Abundance</th>\n",
       "      <th>Protein Abundance</th>\n",
       "      <th>UPDRS Part I</th>\n",
       "      <th>UPDRS Part II</th>\n",
       "      <th>UPDRS Part III</th>\n",
       "      <th>UPDRS Part IV</th>\n",
       "      <th>On Medication</th>\n",
       "      <th>Total UPDRS Score</th>\n",
       "    </tr>\n",
       "  </thead>\n",
       "  <tbody>\n",
       "    <tr>\n",
       "      <th>931</th>\n",
       "      <td>1517_0</td>\n",
       "      <td>0</td>\n",
       "      <td>1517</td>\n",
       "      <td>O00391</td>\n",
       "      <td>NEQEQPLGQWHLS</td>\n",
       "      <td>11648.9</td>\n",
       "      <td>11648.9</td>\n",
       "      <td>11.0</td>\n",
       "      <td>6.0</td>\n",
       "      <td>25.0</td>\n",
       "      <td>5.0</td>\n",
       "      <td>On</td>\n",
       "      <td>47.0</td>\n",
       "    </tr>\n",
       "    <tr>\n",
       "      <th>932</th>\n",
       "      <td>1517_0</td>\n",
       "      <td>0</td>\n",
       "      <td>1517</td>\n",
       "      <td>O00533</td>\n",
       "      <td>GNPEPTFSWTK</td>\n",
       "      <td>63593.4</td>\n",
       "      <td>419015.0</td>\n",
       "      <td>11.0</td>\n",
       "      <td>6.0</td>\n",
       "      <td>25.0</td>\n",
       "      <td>5.0</td>\n",
       "      <td>On</td>\n",
       "      <td>47.0</td>\n",
       "    </tr>\n",
       "  </tbody>\n",
       "</table>\n",
       "</div>"
      ],
      "text/plain": [
       "    Visit ID  Visit Month  Patient ID Protein ID Peptide Sequence  \\\n",
       "931   1517_0            0        1517     O00391    NEQEQPLGQWHLS   \n",
       "932   1517_0            0        1517     O00533      GNPEPTFSWTK   \n",
       "\n",
       "     Peptide Abundance  Protein Abundance  UPDRS Part I  UPDRS Part II  \\\n",
       "931            11648.9            11648.9          11.0            6.0   \n",
       "932            63593.4           419015.0          11.0            6.0   \n",
       "\n",
       "     UPDRS Part III  UPDRS Part IV On Medication  Total UPDRS Score  \n",
       "931            25.0            5.0            On               47.0  \n",
       "932            25.0            5.0            On               47.0  "
      ]
     },
     "execution_count": 41,
     "metadata": {},
     "output_type": "execute_result"
    }
   ],
   "source": [
    "merged_data.head(2)"
   ]
  },
  {
   "cell_type": "code",
   "execution_count": 42,
   "id": "9e39fc67",
   "metadata": {},
   "outputs": [
    {
     "data": {
      "text/plain": [
       "40.0     14790\n",
       "39.0     14350\n",
       "54.0      9546\n",
       "33.0      9523\n",
       "28.0      9059\n",
       "61.0      8949\n",
       "41.0      8814\n",
       "30.0      8785\n",
       "43.0      7699\n",
       "34.0      7420\n",
       "37.0      7066\n",
       "38.0      7064\n",
       "52.0      7038\n",
       "44.0      6990\n",
       "36.0      6967\n",
       "50.0      6888\n",
       "31.0      6849\n",
       "27.0      6652\n",
       "25.0      6523\n",
       "57.0      6337\n",
       "69.0      6290\n",
       "22.0      6229\n",
       "26.0      6129\n",
       "65.0      6120\n",
       "46.0      6107\n",
       "47.0      6061\n",
       "19.0      6053\n",
       "48.0      6038\n",
       "75.0      5376\n",
       "62.0      5325\n",
       "20.0      5256\n",
       "58.0      5168\n",
       "35.0      5117\n",
       "64.0      5034\n",
       "51.0      5014\n",
       "59.0      4857\n",
       "32.0      4494\n",
       "63.0      4488\n",
       "16.0      4476\n",
       "55.0      4453\n",
       "66.0      4443\n",
       "49.0      4396\n",
       "17.0      4361\n",
       "67.0      4321\n",
       "29.0      4017\n",
       "68.0      3854\n",
       "86.0      3676\n",
       "45.0      3612\n",
       "23.0      3603\n",
       "18.0      3501\n",
       "73.0      3486\n",
       "24.0      3473\n",
       "42.0      3243\n",
       "76.0      2728\n",
       "74.0      2694\n",
       "77.0      2593\n",
       "53.0      2589\n",
       "21.0      2564\n",
       "91.0      2430\n",
       "60.0      2401\n",
       "83.0      1824\n",
       "8.0       1814\n",
       "70.0      1810\n",
       "71.0      1798\n",
       "14.0      1782\n",
       "85.0      1778\n",
       "82.0      1752\n",
       "98.0      1705\n",
       "81.0      1701\n",
       "92.0      1700\n",
       "72.0      1690\n",
       "93.0      1646\n",
       "56.0       922\n",
       "110.0      920\n",
       "15.0       910\n",
       "103.0      908\n",
       "9.0        905\n",
       "10.0       898\n",
       "96.0       897\n",
       "12.0       892\n",
       "126.0      886\n",
       "11.0       883\n",
       "79.0       880\n",
       "127.0      875\n",
       "111.0      874\n",
       "119.0      873\n",
       "100.0      869\n",
       "109.0      869\n",
       "80.0       854\n",
       "89.0       854\n",
       "95.0       851\n",
       "78.0       642\n",
       "Name: Total UPDRS Score, dtype: int64"
      ]
     },
     "execution_count": 42,
     "metadata": {},
     "output_type": "execute_result"
    }
   ],
   "source": [
    "merged_data['Total UPDRS Score'].value_counts()"
   ]
  },
  {
   "cell_type": "code",
   "execution_count": 43,
   "id": "826258dc",
   "metadata": {},
   "outputs": [],
   "source": [
    "def calc_rating(score):\n",
    "    if score >= 0 and score <= 8:\n",
    "        return 0\n",
    "    elif score >= 9 and score <= 16:\n",
    "        return 1\n",
    "    elif score >= 17 and score <= 32:\n",
    "        return 2\n",
    "    elif score >= 33 and score <= 68:\n",
    "        return 3\n",
    "    else:\n",
    "        return 4\n",
    "\n",
    "merged_data['UPDRS Rating'] = merged_data['Total UPDRS Score'].apply(calc_rating)\n"
   ]
  },
  {
   "cell_type": "code",
   "execution_count": 44,
   "id": "e6ee1b1a",
   "metadata": {},
   "outputs": [
    {
     "data": {
      "text/html": [
       "<div>\n",
       "<style scoped>\n",
       "    .dataframe tbody tr th:only-of-type {\n",
       "        vertical-align: middle;\n",
       "    }\n",
       "\n",
       "    .dataframe tbody tr th {\n",
       "        vertical-align: top;\n",
       "    }\n",
       "\n",
       "    .dataframe thead th {\n",
       "        text-align: right;\n",
       "    }\n",
       "</style>\n",
       "<table border=\"1\" class=\"dataframe\">\n",
       "  <thead>\n",
       "    <tr style=\"text-align: right;\">\n",
       "      <th></th>\n",
       "      <th>Visit ID</th>\n",
       "      <th>Visit Month</th>\n",
       "      <th>Patient ID</th>\n",
       "      <th>Protein ID</th>\n",
       "      <th>Peptide Sequence</th>\n",
       "      <th>Peptide Abundance</th>\n",
       "      <th>Protein Abundance</th>\n",
       "      <th>UPDRS Part I</th>\n",
       "      <th>UPDRS Part II</th>\n",
       "      <th>UPDRS Part III</th>\n",
       "      <th>UPDRS Part IV</th>\n",
       "      <th>On Medication</th>\n",
       "      <th>Total UPDRS Score</th>\n",
       "      <th>UPDRS Rating</th>\n",
       "    </tr>\n",
       "  </thead>\n",
       "  <tbody>\n",
       "    <tr>\n",
       "      <th>931</th>\n",
       "      <td>1517_0</td>\n",
       "      <td>0</td>\n",
       "      <td>1517</td>\n",
       "      <td>O00391</td>\n",
       "      <td>NEQEQPLGQWHLS</td>\n",
       "      <td>11648.9</td>\n",
       "      <td>11648.9</td>\n",
       "      <td>11.0</td>\n",
       "      <td>6.0</td>\n",
       "      <td>25.0</td>\n",
       "      <td>5.0</td>\n",
       "      <td>On</td>\n",
       "      <td>47.0</td>\n",
       "      <td>3</td>\n",
       "    </tr>\n",
       "    <tr>\n",
       "      <th>932</th>\n",
       "      <td>1517_0</td>\n",
       "      <td>0</td>\n",
       "      <td>1517</td>\n",
       "      <td>O00533</td>\n",
       "      <td>GNPEPTFSWTK</td>\n",
       "      <td>63593.4</td>\n",
       "      <td>419015.0</td>\n",
       "      <td>11.0</td>\n",
       "      <td>6.0</td>\n",
       "      <td>25.0</td>\n",
       "      <td>5.0</td>\n",
       "      <td>On</td>\n",
       "      <td>47.0</td>\n",
       "      <td>3</td>\n",
       "    </tr>\n",
       "    <tr>\n",
       "      <th>933</th>\n",
       "      <td>1517_0</td>\n",
       "      <td>0</td>\n",
       "      <td>1517</td>\n",
       "      <td>O00533</td>\n",
       "      <td>IEIPSSVQQVPTIIK</td>\n",
       "      <td>99566.6</td>\n",
       "      <td>419015.0</td>\n",
       "      <td>11.0</td>\n",
       "      <td>6.0</td>\n",
       "      <td>25.0</td>\n",
       "      <td>5.0</td>\n",
       "      <td>On</td>\n",
       "      <td>47.0</td>\n",
       "      <td>3</td>\n",
       "    </tr>\n",
       "    <tr>\n",
       "      <th>934</th>\n",
       "      <td>1517_0</td>\n",
       "      <td>0</td>\n",
       "      <td>1517</td>\n",
       "      <td>O00533</td>\n",
       "      <td>KPQSAVYSTGSNGILLC(UniMod_4)EAEGEPQPTIK</td>\n",
       "      <td>16351.0</td>\n",
       "      <td>419015.0</td>\n",
       "      <td>11.0</td>\n",
       "      <td>6.0</td>\n",
       "      <td>25.0</td>\n",
       "      <td>5.0</td>\n",
       "      <td>On</td>\n",
       "      <td>47.0</td>\n",
       "      <td>3</td>\n",
       "    </tr>\n",
       "    <tr>\n",
       "      <th>935</th>\n",
       "      <td>1517_0</td>\n",
       "      <td>0</td>\n",
       "      <td>1517</td>\n",
       "      <td>O00533</td>\n",
       "      <td>SMEQNGPGLEYR</td>\n",
       "      <td>15566.0</td>\n",
       "      <td>419015.0</td>\n",
       "      <td>11.0</td>\n",
       "      <td>6.0</td>\n",
       "      <td>25.0</td>\n",
       "      <td>5.0</td>\n",
       "      <td>On</td>\n",
       "      <td>47.0</td>\n",
       "      <td>3</td>\n",
       "    </tr>\n",
       "  </tbody>\n",
       "</table>\n",
       "</div>"
      ],
      "text/plain": [
       "    Visit ID  Visit Month  Patient ID Protein ID  \\\n",
       "931   1517_0            0        1517     O00391   \n",
       "932   1517_0            0        1517     O00533   \n",
       "933   1517_0            0        1517     O00533   \n",
       "934   1517_0            0        1517     O00533   \n",
       "935   1517_0            0        1517     O00533   \n",
       "\n",
       "                           Peptide Sequence  Peptide Abundance  \\\n",
       "931                           NEQEQPLGQWHLS            11648.9   \n",
       "932                             GNPEPTFSWTK            63593.4   \n",
       "933                         IEIPSSVQQVPTIIK            99566.6   \n",
       "934  KPQSAVYSTGSNGILLC(UniMod_4)EAEGEPQPTIK            16351.0   \n",
       "935                            SMEQNGPGLEYR            15566.0   \n",
       "\n",
       "     Protein Abundance  UPDRS Part I  UPDRS Part II  UPDRS Part III  \\\n",
       "931            11648.9          11.0            6.0            25.0   \n",
       "932           419015.0          11.0            6.0            25.0   \n",
       "933           419015.0          11.0            6.0            25.0   \n",
       "934           419015.0          11.0            6.0            25.0   \n",
       "935           419015.0          11.0            6.0            25.0   \n",
       "\n",
       "     UPDRS Part IV On Medication  Total UPDRS Score  UPDRS Rating  \n",
       "931            5.0            On               47.0             3  \n",
       "932            5.0            On               47.0             3  \n",
       "933            5.0            On               47.0             3  \n",
       "934            5.0            On               47.0             3  \n",
       "935            5.0            On               47.0             3  "
      ]
     },
     "execution_count": 44,
     "metadata": {},
     "output_type": "execute_result"
    }
   ],
   "source": [
    "# Create rating by by Total UPDRS Score\n",
    "\n",
    "# 0 to 8: Normal as 0\n",
    "# 9 to 16: Slight as 1\n",
    "# 17 to 32: Mild as 2\n",
    "# 33 to 68: Moderate as 3 \n",
    "# 69 and above: Severe as 4\n",
    "\n",
    "merged_data.head(5)"
   ]
  },
  {
   "cell_type": "code",
   "execution_count": 45,
   "id": "580d2a46",
   "metadata": {},
   "outputs": [],
   "source": [
    "merged_data['On Medication'] = merged_data['On Medication'].replace({'On': 1, 'Off': 0})"
   ]
  },
  {
   "cell_type": "code",
   "execution_count": 46,
   "id": "f5220ea6",
   "metadata": {},
   "outputs": [
    {
     "data": {
      "text/html": [
       "<div>\n",
       "<style scoped>\n",
       "    .dataframe tbody tr th:only-of-type {\n",
       "        vertical-align: middle;\n",
       "    }\n",
       "\n",
       "    .dataframe tbody tr th {\n",
       "        vertical-align: top;\n",
       "    }\n",
       "\n",
       "    .dataframe thead th {\n",
       "        text-align: right;\n",
       "    }\n",
       "</style>\n",
       "<table border=\"1\" class=\"dataframe\">\n",
       "  <thead>\n",
       "    <tr style=\"text-align: right;\">\n",
       "      <th></th>\n",
       "      <th>Visit ID</th>\n",
       "      <th>Visit Month</th>\n",
       "      <th>Patient ID</th>\n",
       "      <th>Protein ID</th>\n",
       "      <th>Peptide Sequence</th>\n",
       "      <th>Peptide Abundance</th>\n",
       "      <th>Protein Abundance</th>\n",
       "      <th>UPDRS Part I</th>\n",
       "      <th>UPDRS Part II</th>\n",
       "      <th>UPDRS Part III</th>\n",
       "      <th>UPDRS Part IV</th>\n",
       "      <th>On Medication</th>\n",
       "      <th>Total UPDRS Score</th>\n",
       "      <th>UPDRS Rating</th>\n",
       "    </tr>\n",
       "  </thead>\n",
       "  <tbody>\n",
       "    <tr>\n",
       "      <th>931</th>\n",
       "      <td>1517_0</td>\n",
       "      <td>0</td>\n",
       "      <td>1517</td>\n",
       "      <td>O00391</td>\n",
       "      <td>NEQEQPLGQWHLS</td>\n",
       "      <td>11648.9</td>\n",
       "      <td>11648.9</td>\n",
       "      <td>11.0</td>\n",
       "      <td>6.0</td>\n",
       "      <td>25.0</td>\n",
       "      <td>5.0</td>\n",
       "      <td>1</td>\n",
       "      <td>47.0</td>\n",
       "      <td>3</td>\n",
       "    </tr>\n",
       "    <tr>\n",
       "      <th>932</th>\n",
       "      <td>1517_0</td>\n",
       "      <td>0</td>\n",
       "      <td>1517</td>\n",
       "      <td>O00533</td>\n",
       "      <td>GNPEPTFSWTK</td>\n",
       "      <td>63593.4</td>\n",
       "      <td>419015.0</td>\n",
       "      <td>11.0</td>\n",
       "      <td>6.0</td>\n",
       "      <td>25.0</td>\n",
       "      <td>5.0</td>\n",
       "      <td>1</td>\n",
       "      <td>47.0</td>\n",
       "      <td>3</td>\n",
       "    </tr>\n",
       "    <tr>\n",
       "      <th>933</th>\n",
       "      <td>1517_0</td>\n",
       "      <td>0</td>\n",
       "      <td>1517</td>\n",
       "      <td>O00533</td>\n",
       "      <td>IEIPSSVQQVPTIIK</td>\n",
       "      <td>99566.6</td>\n",
       "      <td>419015.0</td>\n",
       "      <td>11.0</td>\n",
       "      <td>6.0</td>\n",
       "      <td>25.0</td>\n",
       "      <td>5.0</td>\n",
       "      <td>1</td>\n",
       "      <td>47.0</td>\n",
       "      <td>3</td>\n",
       "    </tr>\n",
       "  </tbody>\n",
       "</table>\n",
       "</div>"
      ],
      "text/plain": [
       "    Visit ID  Visit Month  Patient ID Protein ID Peptide Sequence  \\\n",
       "931   1517_0            0        1517     O00391    NEQEQPLGQWHLS   \n",
       "932   1517_0            0        1517     O00533      GNPEPTFSWTK   \n",
       "933   1517_0            0        1517     O00533  IEIPSSVQQVPTIIK   \n",
       "\n",
       "     Peptide Abundance  Protein Abundance  UPDRS Part I  UPDRS Part II  \\\n",
       "931            11648.9            11648.9          11.0            6.0   \n",
       "932            63593.4           419015.0          11.0            6.0   \n",
       "933            99566.6           419015.0          11.0            6.0   \n",
       "\n",
       "     UPDRS Part III  UPDRS Part IV  On Medication  Total UPDRS Score  \\\n",
       "931            25.0            5.0              1               47.0   \n",
       "932            25.0            5.0              1               47.0   \n",
       "933            25.0            5.0              1               47.0   \n",
       "\n",
       "     UPDRS Rating  \n",
       "931             3  \n",
       "932             3  \n",
       "933             3  "
      ]
     },
     "execution_count": 46,
     "metadata": {},
     "output_type": "execute_result"
    }
   ],
   "source": [
    "merged_data.head(3)"
   ]
  },
  {
   "cell_type": "code",
   "execution_count": 47,
   "id": "3d06f694",
   "metadata": {},
   "outputs": [],
   "source": [
    "merged_data.drop(['Peptide Sequence', 'Protein ID'], axis=1, inplace=True)"
   ]
  },
  {
   "cell_type": "code",
   "execution_count": 54,
   "id": "c3a6a95a",
   "metadata": {},
   "outputs": [
    {
     "data": {
      "text/html": [
       "<div>\n",
       "<style scoped>\n",
       "    .dataframe tbody tr th:only-of-type {\n",
       "        vertical-align: middle;\n",
       "    }\n",
       "\n",
       "    .dataframe tbody tr th {\n",
       "        vertical-align: top;\n",
       "    }\n",
       "\n",
       "    .dataframe thead th {\n",
       "        text-align: right;\n",
       "    }\n",
       "</style>\n",
       "<table border=\"1\" class=\"dataframe\">\n",
       "  <thead>\n",
       "    <tr style=\"text-align: right;\">\n",
       "      <th></th>\n",
       "      <th>Visit ID</th>\n",
       "      <th>Visit Month</th>\n",
       "      <th>Patient ID</th>\n",
       "      <th>Peptide Abundance</th>\n",
       "      <th>Protein Abundance</th>\n",
       "      <th>UPDRS Part I</th>\n",
       "      <th>UPDRS Part II</th>\n",
       "      <th>UPDRS Part III</th>\n",
       "      <th>UPDRS Part IV</th>\n",
       "      <th>On Medication</th>\n",
       "      <th>Total UPDRS Score</th>\n",
       "      <th>UPDRS Rating</th>\n",
       "    </tr>\n",
       "  </thead>\n",
       "  <tbody>\n",
       "    <tr>\n",
       "      <th>940831</th>\n",
       "      <td>55096_108</td>\n",
       "      <td>108</td>\n",
       "      <td>55096</td>\n",
       "      <td>33929.8</td>\n",
       "      <td>123192.0</td>\n",
       "      <td>5.0</td>\n",
       "      <td>6.0</td>\n",
       "      <td>46.0</td>\n",
       "      <td>0.0</td>\n",
       "      <td>0</td>\n",
       "      <td>57.0</td>\n",
       "      <td>3</td>\n",
       "    </tr>\n",
       "    <tr>\n",
       "      <th>940832</th>\n",
       "      <td>55096_108</td>\n",
       "      <td>108</td>\n",
       "      <td>55096</td>\n",
       "      <td>68513.3</td>\n",
       "      <td>123192.0</td>\n",
       "      <td>5.0</td>\n",
       "      <td>6.0</td>\n",
       "      <td>46.0</td>\n",
       "      <td>0.0</td>\n",
       "      <td>0</td>\n",
       "      <td>57.0</td>\n",
       "      <td>3</td>\n",
       "    </tr>\n",
       "    <tr>\n",
       "      <th>940833</th>\n",
       "      <td>55096_108</td>\n",
       "      <td>108</td>\n",
       "      <td>55096</td>\n",
       "      <td>101061.0</td>\n",
       "      <td>101061.0</td>\n",
       "      <td>5.0</td>\n",
       "      <td>6.0</td>\n",
       "      <td>46.0</td>\n",
       "      <td>0.0</td>\n",
       "      <td>0</td>\n",
       "      <td>57.0</td>\n",
       "      <td>3</td>\n",
       "    </tr>\n",
       "    <tr>\n",
       "      <th>940834</th>\n",
       "      <td>55096_108</td>\n",
       "      <td>108</td>\n",
       "      <td>55096</td>\n",
       "      <td>18108.9</td>\n",
       "      <td>18108.9</td>\n",
       "      <td>5.0</td>\n",
       "      <td>6.0</td>\n",
       "      <td>46.0</td>\n",
       "      <td>0.0</td>\n",
       "      <td>0</td>\n",
       "      <td>57.0</td>\n",
       "      <td>3</td>\n",
       "    </tr>\n",
       "    <tr>\n",
       "      <th>940835</th>\n",
       "      <td>55096_108</td>\n",
       "      <td>108</td>\n",
       "      <td>55096</td>\n",
       "      <td>14165.3</td>\n",
       "      <td>14165.3</td>\n",
       "      <td>5.0</td>\n",
       "      <td>6.0</td>\n",
       "      <td>46.0</td>\n",
       "      <td>0.0</td>\n",
       "      <td>0</td>\n",
       "      <td>57.0</td>\n",
       "      <td>3</td>\n",
       "    </tr>\n",
       "  </tbody>\n",
       "</table>\n",
       "</div>"
      ],
      "text/plain": [
       "         Visit ID  Visit Month  Patient ID  Peptide Abundance  \\\n",
       "940831  55096_108          108       55096            33929.8   \n",
       "940832  55096_108          108       55096            68513.3   \n",
       "940833  55096_108          108       55096           101061.0   \n",
       "940834  55096_108          108       55096            18108.9   \n",
       "940835  55096_108          108       55096            14165.3   \n",
       "\n",
       "        Protein Abundance  UPDRS Part I  UPDRS Part II  UPDRS Part III  \\\n",
       "940831           123192.0           5.0            6.0            46.0   \n",
       "940832           123192.0           5.0            6.0            46.0   \n",
       "940833           101061.0           5.0            6.0            46.0   \n",
       "940834            18108.9           5.0            6.0            46.0   \n",
       "940835            14165.3           5.0            6.0            46.0   \n",
       "\n",
       "        UPDRS Part IV  On Medication  Total UPDRS Score  UPDRS Rating  \n",
       "940831            0.0              0               57.0             3  \n",
       "940832            0.0              0               57.0             3  \n",
       "940833            0.0              0               57.0             3  \n",
       "940834            0.0              0               57.0             3  \n",
       "940835            0.0              0               57.0             3  "
      ]
     },
     "execution_count": 54,
     "metadata": {},
     "output_type": "execute_result"
    }
   ],
   "source": [
    "merged_data.tail(5)"
   ]
  },
  {
   "cell_type": "code",
   "execution_count": null,
   "id": "cb333aee",
   "metadata": {},
   "outputs": [],
   "source": [
    "merged_data.drop(['Visit Month', 'Patient ID'], axis=1, inplace=True)"
   ]
  },
  {
   "cell_type": "code",
   "execution_count": 55,
   "id": "d5558a77",
   "metadata": {},
   "outputs": [],
   "source": [
    "# Splitting the dataset into X and y\n",
    "X = merged_data.drop(['UPDRS Rating'], axis=1)\n",
    "y = merged_data['UPDRS Rating']"
   ]
  },
  {
   "cell_type": "code",
   "execution_count": 56,
   "id": "baab9887",
   "metadata": {},
   "outputs": [],
   "source": [
    "from sklearn.ensemble import RandomForestRegressor\n",
    "from sklearn.model_selection import train_test_split\n",
    "\n",
    "# split the data into training and testing sets\n",
    "X_train, X_test, y_train, y_test = train_test_split(merged_data.drop('UPDRS Rating', axis=1), merged_data['UPDRS Rating'], test_size=0.2, random_state=42)\n",
    "\n",
    "# create a random forest regressor\n",
    "rf = RandomForestRegressor(n_estimators=100, random_state=42)\n"
   ]
  },
  {
   "cell_type": "code",
   "execution_count": 57,
   "id": "e3ddc072",
   "metadata": {},
   "outputs": [],
   "source": [
    "# fit the model to the training data\n",
    "rf.fit(X_train, y_train)\n",
    "\n",
    "# make predictions on the testing data\n",
    "y_pred = rf.predict(X_test)"
   ]
  },
  {
   "cell_type": "code",
   "execution_count": 58,
   "id": "69d03d91",
   "metadata": {},
   "outputs": [
    {
     "name": "stdout",
     "output_type": "stream",
     "text": [
      "MSE: 0.0\n"
     ]
    }
   ],
   "source": [
    "# evaluate the model's performance\n",
    "from sklearn.metrics import mean_squared_error\n",
    "mse = mean_squared_error(y_test, y_pred)\n",
    "print('MSE:', mse)\n"
   ]
  },
  {
   "cell_type": "code",
   "execution_count": 60,
   "id": "686afc64",
   "metadata": {},
   "outputs": [
    {
     "name": "stdout",
     "output_type": "stream",
     "text": [
      "R-squared value: 1.0\n"
     ]
    }
   ],
   "source": [
    "from sklearn.metrics import r2_score\n",
    "r2 = r2_score(y_test, y_pred)\n",
    "print(\"R-squared value:\", r2)\n"
   ]
  },
  {
   "cell_type": "code",
   "execution_count": 88,
   "id": "c0e3ed8a",
   "metadata": {},
   "outputs": [],
   "source": [
    "# Create submission dataframe\n",
    "submission_df = pd.DataFrame({\n",
    "    'prediction_id': merged_data['Visit ID'].astype(str) + '_' + merged_data['Visit Month'].astype(str)+ '_months',\n",
    "    'rating': merged_data['UPDRS Rating'].astype(int)\n",
    "})\n",
    "\n",
    "# Group by prediction_id and take the mean rating\n",
    "submission_df = submission_df.groupby(['prediction_id'])['rating'].mean().reset_index()\n",
    "\n",
    "# Set prediction_id as index\n",
    "submission_df = submission_df.set_index('prediction_id')\n",
    "\n",
    "# Save submission CSV file\n",
    "submission_df.to_csv('submission4.csv')\n"
   ]
  },
  {
   "cell_type": "code",
   "execution_count": 89,
   "id": "59ff1387",
   "metadata": {},
   "outputs": [],
   "source": [
    "sub = pd.read_csv('submission4.csv')"
   ]
  },
  {
   "cell_type": "code",
   "execution_count": 90,
   "id": "ad02a359",
   "metadata": {},
   "outputs": [
    {
     "data": {
      "text/html": [
       "<div>\n",
       "<style scoped>\n",
       "    .dataframe tbody tr th:only-of-type {\n",
       "        vertical-align: middle;\n",
       "    }\n",
       "\n",
       "    .dataframe tbody tr th {\n",
       "        vertical-align: top;\n",
       "    }\n",
       "\n",
       "    .dataframe thead th {\n",
       "        text-align: right;\n",
       "    }\n",
       "</style>\n",
       "<table border=\"1\" class=\"dataframe\">\n",
       "  <thead>\n",
       "    <tr style=\"text-align: right;\">\n",
       "      <th></th>\n",
       "      <th>prediction_id</th>\n",
       "      <th>rating</th>\n",
       "    </tr>\n",
       "  </thead>\n",
       "  <tbody>\n",
       "    <tr>\n",
       "      <th>0</th>\n",
       "      <td>10138_12_12_months</td>\n",
       "      <td>3</td>\n",
       "    </tr>\n",
       "    <tr>\n",
       "      <th>1</th>\n",
       "      <td>10138_24_24_months</td>\n",
       "      <td>3</td>\n",
       "    </tr>\n",
       "    <tr>\n",
       "      <th>2</th>\n",
       "      <td>10138_36_36_months</td>\n",
       "      <td>2</td>\n",
       "    </tr>\n",
       "  </tbody>\n",
       "</table>\n",
       "</div>"
      ],
      "text/plain": [
       "        prediction_id  rating\n",
       "0  10138_12_12_months       3\n",
       "1  10138_24_24_months       3\n",
       "2  10138_36_36_months       2"
      ]
     },
     "execution_count": 90,
     "metadata": {},
     "output_type": "execute_result"
    }
   ],
   "source": [
    "sub.head(3)"
   ]
  },
  {
   "cell_type": "markdown",
   "id": "cf417b9f",
   "metadata": {},
   "source": [
    "### Conclusion"
   ]
  },
  {
   "cell_type": "markdown",
   "id": "b34b1e0e",
   "metadata": {},
   "source": [
    "Based on the analysis and modeling, we can conclude that the protein abundance and peptide abundance are highly correlated with UPDRS rating, which makes them important predictors of the disease severity. We have also identified that the UPDRS Part III score is the strongest predictor of UPDRS rating.\n",
    "\n",
    "The Random Forest model was used to predict the UPDRS rating based on the protein and peptide abundance levels, and we achieved an excellent model performance with an R-squared value of 1.0, indicating a perfect fit.\n",
    "\n",
    "Finally, we created a submission file with the predicted UPDRS rating for each patient visit using the trained model. This can be used to assist medical professionals in predicting the disease progression and to monitor the effectiveness of treatments for Parkinson's disease patients."
   ]
  },
  {
   "cell_type": "code",
   "execution_count": null,
   "id": "0d1385b4",
   "metadata": {},
   "outputs": [],
   "source": []
  }
 ],
 "metadata": {
  "kernelspec": {
   "display_name": "Python 3",
   "language": "python",
   "name": "python3"
  },
  "language_info": {
   "codemirror_mode": {
    "name": "ipython",
    "version": 3
   },
   "file_extension": ".py",
   "mimetype": "text/x-python",
   "name": "python",
   "nbconvert_exporter": "python",
   "pygments_lexer": "ipython3",
   "version": "3.8.8"
  }
 },
 "nbformat": 4,
 "nbformat_minor": 5
}
